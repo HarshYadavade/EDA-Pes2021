{
 "cells": [
  {
   "cell_type": "code",
   "execution_count": 2,
   "id": "f842523e",
   "metadata": {},
   "outputs": [],
   "source": [
    "import pandas as pd\n",
    "import numpy as np\n",
    "import matplotlib.pyplot as plt\n",
    "import seaborn as sns"
   ]
  },
  {
   "cell_type": "code",
   "execution_count": 3,
   "id": "13e07582",
   "metadata": {},
   "outputs": [],
   "source": [
    "df = pd.read_csv('pes2021-all-players.csv')"
   ]
  },
  {
   "cell_type": "code",
   "execution_count": 4,
   "id": "17aca1d7",
   "metadata": {},
   "outputs": [
    {
     "data": {
      "text/html": [
       "<div>\n",
       "<style scoped>\n",
       "    .dataframe tbody tr th:only-of-type {\n",
       "        vertical-align: middle;\n",
       "    }\n",
       "\n",
       "    .dataframe tbody tr th {\n",
       "        vertical-align: top;\n",
       "    }\n",
       "\n",
       "    .dataframe thead th {\n",
       "        text-align: right;\n",
       "    }\n",
       "</style>\n",
       "<table border=\"1\" class=\"dataframe\">\n",
       "  <thead>\n",
       "    <tr style=\"text-align: right;\">\n",
       "      <th></th>\n",
       "      <th>name</th>\n",
       "      <th>shirt_number</th>\n",
       "      <th>team_name</th>\n",
       "      <th>league</th>\n",
       "      <th>nationality</th>\n",
       "      <th>region</th>\n",
       "      <th>height</th>\n",
       "      <th>weight</th>\n",
       "      <th>age</th>\n",
       "      <th>foot</th>\n",
       "      <th>...</th>\n",
       "      <th>skill_super_sub</th>\n",
       "      <th>com_playing_style_trickster</th>\n",
       "      <th>com_playing_style_mazing_run</th>\n",
       "      <th>com_playing_style_speeding_bullet</th>\n",
       "      <th>com_playing_style_incisive_run</th>\n",
       "      <th>com_playing_style_early_cross</th>\n",
       "      <th>com_playing_style_long_ball_expert</th>\n",
       "      <th>com_playing_style_long_ranger</th>\n",
       "      <th>ball_color</th>\n",
       "      <th>rating_stars</th>\n",
       "    </tr>\n",
       "  </thead>\n",
       "  <tbody>\n",
       "    <tr>\n",
       "      <th>0</th>\n",
       "      <td>L. MESSI</td>\n",
       "      <td>10</td>\n",
       "      <td>FC BARCELONA</td>\n",
       "      <td>Spanish League</td>\n",
       "      <td>ARGENTINA</td>\n",
       "      <td>South America</td>\n",
       "      <td>170</td>\n",
       "      <td>72</td>\n",
       "      <td>33</td>\n",
       "      <td>Left foot</td>\n",
       "      <td>...</td>\n",
       "      <td>0</td>\n",
       "      <td>1</td>\n",
       "      <td>1</td>\n",
       "      <td>1</td>\n",
       "      <td>1</td>\n",
       "      <td>1</td>\n",
       "      <td>0</td>\n",
       "      <td>0</td>\n",
       "      <td>black</td>\n",
       "      <td>5</td>\n",
       "    </tr>\n",
       "    <tr>\n",
       "      <th>1</th>\n",
       "      <td>C. RONALDO</td>\n",
       "      <td>7</td>\n",
       "      <td>JUVENTUS</td>\n",
       "      <td>Serie A TIM</td>\n",
       "      <td>PORTUGAL</td>\n",
       "      <td>Europe</td>\n",
       "      <td>187</td>\n",
       "      <td>83</td>\n",
       "      <td>35</td>\n",
       "      <td>Right foot</td>\n",
       "      <td>...</td>\n",
       "      <td>0</td>\n",
       "      <td>1</td>\n",
       "      <td>1</td>\n",
       "      <td>1</td>\n",
       "      <td>1</td>\n",
       "      <td>0</td>\n",
       "      <td>0</td>\n",
       "      <td>1</td>\n",
       "      <td>black</td>\n",
       "      <td>5</td>\n",
       "    </tr>\n",
       "    <tr>\n",
       "      <th>2</th>\n",
       "      <td>R. LEWANDOWSKI</td>\n",
       "      <td>9</td>\n",
       "      <td>FC BAYERN MÜNCHEN</td>\n",
       "      <td>Other European Leagues</td>\n",
       "      <td>POLAND</td>\n",
       "      <td>Europe</td>\n",
       "      <td>185</td>\n",
       "      <td>79</td>\n",
       "      <td>32</td>\n",
       "      <td>Right foot</td>\n",
       "      <td>...</td>\n",
       "      <td>0</td>\n",
       "      <td>0</td>\n",
       "      <td>0</td>\n",
       "      <td>0</td>\n",
       "      <td>1</td>\n",
       "      <td>0</td>\n",
       "      <td>0</td>\n",
       "      <td>0</td>\n",
       "      <td>black</td>\n",
       "      <td>5</td>\n",
       "    </tr>\n",
       "    <tr>\n",
       "      <th>3</th>\n",
       "      <td>NEYMAR</td>\n",
       "      <td>10</td>\n",
       "      <td>PSG</td>\n",
       "      <td>Ligue 1 Uber Eats</td>\n",
       "      <td>BRAZIL</td>\n",
       "      <td>South America</td>\n",
       "      <td>175</td>\n",
       "      <td>68</td>\n",
       "      <td>28</td>\n",
       "      <td>Right foot</td>\n",
       "      <td>...</td>\n",
       "      <td>0</td>\n",
       "      <td>1</td>\n",
       "      <td>1</td>\n",
       "      <td>1</td>\n",
       "      <td>1</td>\n",
       "      <td>0</td>\n",
       "      <td>0</td>\n",
       "      <td>0</td>\n",
       "      <td>black</td>\n",
       "      <td>5</td>\n",
       "    </tr>\n",
       "    <tr>\n",
       "      <th>4</th>\n",
       "      <td>K. DE BRUYNE</td>\n",
       "      <td>17</td>\n",
       "      <td>MANCHESTER B</td>\n",
       "      <td>English League</td>\n",
       "      <td>BELGIUM</td>\n",
       "      <td>Europe</td>\n",
       "      <td>181</td>\n",
       "      <td>68</td>\n",
       "      <td>29</td>\n",
       "      <td>Right foot</td>\n",
       "      <td>...</td>\n",
       "      <td>0</td>\n",
       "      <td>0</td>\n",
       "      <td>1</td>\n",
       "      <td>0</td>\n",
       "      <td>0</td>\n",
       "      <td>1</td>\n",
       "      <td>1</td>\n",
       "      <td>1</td>\n",
       "      <td>black</td>\n",
       "      <td>5</td>\n",
       "    </tr>\n",
       "  </tbody>\n",
       "</table>\n",
       "<p>5 rows × 120 columns</p>\n",
       "</div>"
      ],
      "text/plain": [
       "             name shirt_number          team_name                  league   \n",
       "0        L. MESSI           10       FC BARCELONA          Spanish League  \\\n",
       "1      C. RONALDO            7           JUVENTUS             Serie A TIM   \n",
       "2  R. LEWANDOWSKI            9  FC BAYERN MÜNCHEN  Other European Leagues   \n",
       "3          NEYMAR           10                PSG       Ligue 1 Uber Eats   \n",
       "4    K. DE BRUYNE           17       MANCHESTER B          English League   \n",
       "\n",
       "  nationality         region  height  weight  age        foot  ...   \n",
       "0   ARGENTINA  South America     170      72   33   Left foot  ...  \\\n",
       "1    PORTUGAL         Europe     187      83   35  Right foot  ...   \n",
       "2      POLAND         Europe     185      79   32  Right foot  ...   \n",
       "3      BRAZIL  South America     175      68   28  Right foot  ...   \n",
       "4     BELGIUM         Europe     181      68   29  Right foot  ...   \n",
       "\n",
       "  skill_super_sub com_playing_style_trickster  com_playing_style_mazing_run   \n",
       "0               0                           1                             1  \\\n",
       "1               0                           1                             1   \n",
       "2               0                           0                             0   \n",
       "3               0                           1                             1   \n",
       "4               0                           0                             1   \n",
       "\n",
       "   com_playing_style_speeding_bullet  com_playing_style_incisive_run   \n",
       "0                                  1                               1  \\\n",
       "1                                  1                               1   \n",
       "2                                  0                               1   \n",
       "3                                  1                               1   \n",
       "4                                  0                               0   \n",
       "\n",
       "   com_playing_style_early_cross  com_playing_style_long_ball_expert   \n",
       "0                              1                                   0  \\\n",
       "1                              0                                   0   \n",
       "2                              0                                   0   \n",
       "3                              0                                   0   \n",
       "4                              1                                   1   \n",
       "\n",
       "   com_playing_style_long_ranger  ball_color  rating_stars  \n",
       "0                              0       black             5  \n",
       "1                              1       black             5  \n",
       "2                              0       black             5  \n",
       "3                              0       black             5  \n",
       "4                              1       black             5  \n",
       "\n",
       "[5 rows x 120 columns]"
      ]
     },
     "execution_count": 4,
     "metadata": {},
     "output_type": "execute_result"
    }
   ],
   "source": [
    "df.head()"
   ]
  },
  {
   "cell_type": "code",
   "execution_count": 5,
   "id": "ec996e1e",
   "metadata": {},
   "outputs": [
    {
     "data": {
      "text/plain": [
       "(14693, 120)"
      ]
     },
     "execution_count": 5,
     "metadata": {},
     "output_type": "execute_result"
    }
   ],
   "source": [
    "df.shape"
   ]
  },
  {
   "cell_type": "markdown",
   "id": "67dc0786",
   "metadata": {},
   "source": [
    "# Cleaning and Preparing the dataset"
   ]
  },
  {
   "cell_type": "markdown",
   "id": "690bb8b5",
   "metadata": {},
   "source": [
    "##### We dont need any skill columns, ball_color column, rating_star column, so lets drop those columns"
   ]
  },
  {
   "cell_type": "code",
   "execution_count": 6,
   "id": "5f41a189",
   "metadata": {},
   "outputs": [],
   "source": [
    "#Getting the index of playing style column\n",
    "playingStyle_column_index = df.columns.get_loc('playing_style')\n",
    "\n",
    "# Drop all columns after the 'playing_style' column\n",
    "df = df.iloc[:, :playingStyle_column_index + 1]"
   ]
  },
  {
   "cell_type": "markdown",
   "id": "e1c2433e",
   "metadata": {},
   "source": [
    "In above code we dropped all columns after the playing_style column because we dont need them  "
   ]
  },
  {
   "cell_type": "code",
   "execution_count": 7,
   "id": "e219b7b2",
   "metadata": {},
   "outputs": [],
   "source": [
    "#Some more colums to drop\n",
    "columns_to_drop = ['shirt_number', 'height', 'condition']\n",
    "df = df.drop(columns=columns_to_drop)"
   ]
  },
  {
   "cell_type": "code",
   "execution_count": 8,
   "id": "8e01a673",
   "metadata": {},
   "outputs": [
    {
     "data": {
      "text/plain": [
       "Index(['name', 'team_name', 'league', 'nationality', 'region', 'weight', 'age',\n",
       "       'foot', 'registered_position', 'LWF', 'SS', 'CF', 'RWF', 'LMF', 'DMF',\n",
       "       'CMF', 'AMF', 'RMF', 'LB', 'CB', 'RB', 'offensive_awareness',\n",
       "       'ball_control', 'dribbling', 'tight_possession', 'low_pass',\n",
       "       'lofted_pass', 'finishing', 'heading', 'place_kicking', 'curl', 'speed',\n",
       "       'acceleration', 'kicking_power', 'jump', 'physical_contact', 'balance',\n",
       "       'stamina', 'defensive_awareness', 'ball_winning', 'aggression',\n",
       "       'gk_awareness', 'gk_catching', 'gk_clearing', 'gk_reflexes', 'gk_reach',\n",
       "       'weak_foot_usage', 'weak_foot_accuracy', 'form', 'injury_resistance',\n",
       "       'overall_rating', 'rating_as_GK', 'rating_as_CB', 'rating_as_LB',\n",
       "       'rating_as_RB', 'rating_as_DMF', 'rating_as_CMF', 'rating_as_LMF',\n",
       "       'rating_as_RMF', 'rating_as_AMF', 'rating_as_LWF', 'rating_as_RWF',\n",
       "       'rating_as_SS', 'rating_as_CF', 'playing_style'],\n",
       "      dtype='object')"
      ]
     },
     "execution_count": 8,
     "metadata": {},
     "output_type": "execute_result"
    }
   ],
   "source": [
    "df.columns"
   ]
  },
  {
   "cell_type": "code",
   "execution_count": 8,
   "id": "597bc3e2",
   "metadata": {},
   "outputs": [
    {
     "data": {
      "text/plain": [
       "(14693, 65)"
      ]
     },
     "execution_count": 8,
     "metadata": {},
     "output_type": "execute_result"
    }
   ],
   "source": [
    "df.shape #total 52 columns dropped"
   ]
  },
  {
   "cell_type": "markdown",
   "id": "0d441d9f",
   "metadata": {},
   "source": [
    "### Dividing the dataset into four categories : Forwards , midfielders, defenders and goalkeepers, so that we can make our analysis according to the categories."
   ]
  },
  {
   "cell_type": "markdown",
   "id": "8adeb1f0",
   "metadata": {},
   "source": [
    "#### Forwards : all players with registerd position as CF, LWF, RWF, SS\n",
    "#### Midfielders : all players with registered position as AMF, RMF, LMF, CMF, DMF\n",
    "#### Defenders : all players with registered position as CB, LB, RB\n",
    "#### Goalkeepers : all players with registered position as GK"
   ]
  },
  {
   "cell_type": "code",
   "execution_count": 9,
   "id": "40333f68",
   "metadata": {},
   "outputs": [],
   "source": [
    "#FORWARDS\n",
    "forwards_df = df[\n",
    "    (df.registered_position=='CF') |\n",
    "    (df.registered_position=='LWF') |\n",
    "    (df.registered_position=='RWF') |\n",
    "    (df.registered_position=='SS') \n",
    "]"
   ]
  },
  {
   "cell_type": "code",
   "execution_count": 10,
   "id": "3f95c533",
   "metadata": {},
   "outputs": [],
   "source": [
    "#MIDFIELDERS\n",
    "midfielders_df = df[\n",
    "    (df.registered_position=='AMF') |\n",
    "    (df.registered_position=='RMF') |\n",
    "    (df.registered_position=='LMF') |\n",
    "    (df.registered_position=='CMF') |\n",
    "    (df.registered_position=='DMF') \n",
    "]"
   ]
  },
  {
   "cell_type": "code",
   "execution_count": 11,
   "id": "f3dda7f5",
   "metadata": {},
   "outputs": [],
   "source": [
    "defenders_df = df[\n",
    "    (df.registered_position=='CB') |\n",
    "    (df.registered_position=='LB') |\n",
    "    (df.registered_position=='RB') \n",
    "]"
   ]
  },
  {
   "cell_type": "code",
   "execution_count": 12,
   "id": "1a813ea5",
   "metadata": {},
   "outputs": [],
   "source": [
    "goalkeepers_df=df[\n",
    "    (df.registered_position=='GK')\n",
    "]"
   ]
  },
  {
   "cell_type": "markdown",
   "id": "e1e113c4",
   "metadata": {},
   "source": [
    "#### Lets check if our dataset (df) contains any missing values"
   ]
  },
  {
   "cell_type": "code",
   "execution_count": 13,
   "id": "86ab6282",
   "metadata": {},
   "outputs": [
    {
     "name": "stdout",
     "output_type": "stream",
     "text": [
      "There are missing values in the dataset.\n"
     ]
    }
   ],
   "source": [
    "if df.isnull().any().any():\n",
    "    print(\"There are missing values in the dataset.\")\n",
    "else:\n",
    "    print(\"There are no missing values in the dataset.\")"
   ]
  },
  {
   "cell_type": "markdown",
   "id": "4f42d1d1",
   "metadata": {},
   "source": [
    "##### Yes the dataset df contains  missing values, which are the columns that contains missing values?"
   ]
  },
  {
   "cell_type": "code",
   "execution_count": 14,
   "id": "f1615385",
   "metadata": {},
   "outputs": [
    {
     "data": {
      "text/plain": [
       "Index(['LWF', 'SS', 'CF', 'RWF'], dtype='object')"
      ]
     },
     "execution_count": 14,
     "metadata": {},
     "output_type": "execute_result"
    }
   ],
   "source": [
    "df.columns[df.isnull().any()] #columns containing missing values"
   ]
  },
  {
   "cell_type": "markdown",
   "id": "37115f7b",
   "metadata": {},
   "source": [
    "#### Here is the interesting point, positions LWF SS CF and RWF contains the missing values...but when I observed the data the values which were missing were all the goalkeepers and there were no missing values for forwards midfielders and defenders."
   ]
  },
  {
   "cell_type": "code",
   "execution_count": 15,
   "id": "12e3ca2f",
   "metadata": {},
   "outputs": [
    {
     "name": "stdout",
     "output_type": "stream",
     "text": [
      "There are no missing values in the dataset.\n"
     ]
    }
   ],
   "source": [
    "if forwards_df.isnull().any().any():\n",
    "    print(\"There are missing values in the dataset.\")\n",
    "else:\n",
    "    print(\"There are no missing values in the dataset.\")"
   ]
  },
  {
   "cell_type": "code",
   "execution_count": 16,
   "id": "67c5a30a",
   "metadata": {},
   "outputs": [
    {
     "name": "stdout",
     "output_type": "stream",
     "text": [
      "There are no missing values in the dataset.\n"
     ]
    }
   ],
   "source": [
    "if midfielders_df.isnull().any().any():\n",
    "    print(\"There are missing values in the dataset.\")\n",
    "else:\n",
    "    print(\"There are no missing values in the dataset.\")"
   ]
  },
  {
   "cell_type": "code",
   "execution_count": 17,
   "id": "357b95c5",
   "metadata": {},
   "outputs": [
    {
     "name": "stdout",
     "output_type": "stream",
     "text": [
      "There are no missing values in the dataset.\n"
     ]
    }
   ],
   "source": [
    "if defenders_df.isnull().any().any():\n",
    "    print(\"There are missing values in the dataset.\")\n",
    "else:\n",
    "    print(\"There are no missing values in the dataset.\")"
   ]
  },
  {
   "cell_type": "code",
   "execution_count": 18,
   "id": "a38a9f18",
   "metadata": {},
   "outputs": [
    {
     "name": "stdout",
     "output_type": "stream",
     "text": [
      "There are missing values in the dataset.\n"
     ]
    }
   ],
   "source": [
    "if goalkeepers_df.isnull().any().any():\n",
    "    print(\"There are missing values in the dataset.\")\n",
    "else:\n",
    "    print(\"There are no missing values in the dataset.\")"
   ]
  },
  {
   "cell_type": "markdown",
   "id": "92215a67",
   "metadata": {},
   "source": [
    "#### We can see above there are no missing values for any position other than goalkeepers and it makes sense.....its very rare to find any goalkeepers playing in the middle of field....so we can just fill those postions with value 0."
   ]
  },
  {
   "cell_type": "code",
   "execution_count": 19,
   "id": "08c1ca06",
   "metadata": {},
   "outputs": [
    {
     "data": {
      "text/html": [
       "<div>\n",
       "<style scoped>\n",
       "    .dataframe tbody tr th:only-of-type {\n",
       "        vertical-align: middle;\n",
       "    }\n",
       "\n",
       "    .dataframe tbody tr th {\n",
       "        vertical-align: top;\n",
       "    }\n",
       "\n",
       "    .dataframe thead th {\n",
       "        text-align: right;\n",
       "    }\n",
       "</style>\n",
       "<table border=\"1\" class=\"dataframe\">\n",
       "  <thead>\n",
       "    <tr style=\"text-align: right;\">\n",
       "      <th></th>\n",
       "      <th>name</th>\n",
       "      <th>team_name</th>\n",
       "      <th>league</th>\n",
       "      <th>nationality</th>\n",
       "      <th>region</th>\n",
       "      <th>weight</th>\n",
       "      <th>age</th>\n",
       "      <th>foot</th>\n",
       "      <th>registered_position</th>\n",
       "      <th>LWF</th>\n",
       "      <th>...</th>\n",
       "      <th>rating_as_DMF</th>\n",
       "      <th>rating_as_CMF</th>\n",
       "      <th>rating_as_LMF</th>\n",
       "      <th>rating_as_RMF</th>\n",
       "      <th>rating_as_AMF</th>\n",
       "      <th>rating_as_LWF</th>\n",
       "      <th>rating_as_RWF</th>\n",
       "      <th>rating_as_SS</th>\n",
       "      <th>rating_as_CF</th>\n",
       "      <th>playing_style</th>\n",
       "    </tr>\n",
       "  </thead>\n",
       "  <tbody>\n",
       "    <tr>\n",
       "      <th>5</th>\n",
       "      <td>J. OBLAK</td>\n",
       "      <td>MADRID ROSAS RB</td>\n",
       "      <td>Spanish League</td>\n",
       "      <td>SLOVENIA</td>\n",
       "      <td>Europe</td>\n",
       "      <td>87</td>\n",
       "      <td>27</td>\n",
       "      <td>Right foot</td>\n",
       "      <td>GK</td>\n",
       "      <td>0.0</td>\n",
       "      <td>...</td>\n",
       "      <td>53</td>\n",
       "      <td>48</td>\n",
       "      <td>45</td>\n",
       "      <td>45</td>\n",
       "      <td>43</td>\n",
       "      <td>43</td>\n",
       "      <td>43</td>\n",
       "      <td>44</td>\n",
       "      <td>40</td>\n",
       "      <td>Defensive Goalkeeper</td>\n",
       "    </tr>\n",
       "    <tr>\n",
       "      <th>11</th>\n",
       "      <td>ALISSON</td>\n",
       "      <td>LIVERPOOL R</td>\n",
       "      <td>English League</td>\n",
       "      <td>BRAZIL</td>\n",
       "      <td>South America</td>\n",
       "      <td>91</td>\n",
       "      <td>28</td>\n",
       "      <td>Right foot</td>\n",
       "      <td>GK</td>\n",
       "      <td>0.0</td>\n",
       "      <td>...</td>\n",
       "      <td>57</td>\n",
       "      <td>55</td>\n",
       "      <td>52</td>\n",
       "      <td>52</td>\n",
       "      <td>50</td>\n",
       "      <td>49</td>\n",
       "      <td>49</td>\n",
       "      <td>50</td>\n",
       "      <td>42</td>\n",
       "      <td>Offensive Goalkeeper</td>\n",
       "    </tr>\n",
       "    <tr>\n",
       "      <th>12</th>\n",
       "      <td>M. NEUER</td>\n",
       "      <td>FC BAYERN MÜNCHEN</td>\n",
       "      <td>Other European Leagues</td>\n",
       "      <td>GERMANY</td>\n",
       "      <td>Europe</td>\n",
       "      <td>92</td>\n",
       "      <td>34</td>\n",
       "      <td>Right foot</td>\n",
       "      <td>GK</td>\n",
       "      <td>0.0</td>\n",
       "      <td>...</td>\n",
       "      <td>57</td>\n",
       "      <td>53</td>\n",
       "      <td>47</td>\n",
       "      <td>47</td>\n",
       "      <td>46</td>\n",
       "      <td>45</td>\n",
       "      <td>45</td>\n",
       "      <td>45</td>\n",
       "      <td>40</td>\n",
       "      <td>Offensive Goalkeeper</td>\n",
       "    </tr>\n",
       "    <tr>\n",
       "      <th>17</th>\n",
       "      <td>M. TER STEGEN</td>\n",
       "      <td>FC BARCELONA</td>\n",
       "      <td>Spanish League</td>\n",
       "      <td>GERMANY</td>\n",
       "      <td>Europe</td>\n",
       "      <td>85</td>\n",
       "      <td>28</td>\n",
       "      <td>Right foot</td>\n",
       "      <td>GK</td>\n",
       "      <td>0.0</td>\n",
       "      <td>...</td>\n",
       "      <td>52</td>\n",
       "      <td>49</td>\n",
       "      <td>47</td>\n",
       "      <td>47</td>\n",
       "      <td>45</td>\n",
       "      <td>45</td>\n",
       "      <td>45</td>\n",
       "      <td>46</td>\n",
       "      <td>40</td>\n",
       "      <td>Offensive Goalkeeper</td>\n",
       "    </tr>\n",
       "    <tr>\n",
       "      <th>23</th>\n",
       "      <td>DAVID DE GEA</td>\n",
       "      <td>MANCHESTER UNITED</td>\n",
       "      <td>English League</td>\n",
       "      <td>SPAIN</td>\n",
       "      <td>Europe</td>\n",
       "      <td>82</td>\n",
       "      <td>30</td>\n",
       "      <td>Right foot</td>\n",
       "      <td>GK</td>\n",
       "      <td>0.0</td>\n",
       "      <td>...</td>\n",
       "      <td>48</td>\n",
       "      <td>46</td>\n",
       "      <td>44</td>\n",
       "      <td>44</td>\n",
       "      <td>41</td>\n",
       "      <td>42</td>\n",
       "      <td>42</td>\n",
       "      <td>43</td>\n",
       "      <td>40</td>\n",
       "      <td>Offensive Goalkeeper</td>\n",
       "    </tr>\n",
       "    <tr>\n",
       "      <th>...</th>\n",
       "      <td>...</td>\n",
       "      <td>...</td>\n",
       "      <td>...</td>\n",
       "      <td>...</td>\n",
       "      <td>...</td>\n",
       "      <td>...</td>\n",
       "      <td>...</td>\n",
       "      <td>...</td>\n",
       "      <td>...</td>\n",
       "      <td>...</td>\n",
       "      <td>...</td>\n",
       "      <td>...</td>\n",
       "      <td>...</td>\n",
       "      <td>...</td>\n",
       "      <td>...</td>\n",
       "      <td>...</td>\n",
       "      <td>...</td>\n",
       "      <td>...</td>\n",
       "      <td>...</td>\n",
       "      <td>...</td>\n",
       "      <td>...</td>\n",
       "    </tr>\n",
       "    <tr>\n",
       "      <th>14669</th>\n",
       "      <td>NAWAF ALAQIDI</td>\n",
       "      <td>AL NASSR</td>\n",
       "      <td>AFC Champions League</td>\n",
       "      <td>SAUDI ARABIA</td>\n",
       "      <td>Asia-Oceania</td>\n",
       "      <td>73</td>\n",
       "      <td>20</td>\n",
       "      <td>Right foot</td>\n",
       "      <td>GK</td>\n",
       "      <td>0.0</td>\n",
       "      <td>...</td>\n",
       "      <td>40</td>\n",
       "      <td>40</td>\n",
       "      <td>40</td>\n",
       "      <td>40</td>\n",
       "      <td>40</td>\n",
       "      <td>40</td>\n",
       "      <td>40</td>\n",
       "      <td>40</td>\n",
       "      <td>40</td>\n",
       "      <td>Offensive Goalkeeper</td>\n",
       "    </tr>\n",
       "    <tr>\n",
       "      <th>14670</th>\n",
       "      <td>A. ISAQOV</td>\n",
       "      <td>PAKHTAKOR</td>\n",
       "      <td>AFC Champions League</td>\n",
       "      <td>UZBEKISTAN</td>\n",
       "      <td>Asia-Oceania</td>\n",
       "      <td>74</td>\n",
       "      <td>20</td>\n",
       "      <td>Right foot</td>\n",
       "      <td>GK</td>\n",
       "      <td>0.0</td>\n",
       "      <td>...</td>\n",
       "      <td>40</td>\n",
       "      <td>40</td>\n",
       "      <td>40</td>\n",
       "      <td>40</td>\n",
       "      <td>40</td>\n",
       "      <td>40</td>\n",
       "      <td>40</td>\n",
       "      <td>40</td>\n",
       "      <td>40</td>\n",
       "      <td>Offensive Goalkeeper</td>\n",
       "    </tr>\n",
       "    <tr>\n",
       "      <th>14678</th>\n",
       "      <td>C. RAKSRI</td>\n",
       "      <td>POLICE TERO</td>\n",
       "      <td>TOYOTA Thai League</td>\n",
       "      <td>THAILAND</td>\n",
       "      <td>Asia-Oceania</td>\n",
       "      <td>68</td>\n",
       "      <td>25</td>\n",
       "      <td>Right foot</td>\n",
       "      <td>GK</td>\n",
       "      <td>0.0</td>\n",
       "      <td>...</td>\n",
       "      <td>45</td>\n",
       "      <td>43</td>\n",
       "      <td>41</td>\n",
       "      <td>41</td>\n",
       "      <td>40</td>\n",
       "      <td>40</td>\n",
       "      <td>40</td>\n",
       "      <td>40</td>\n",
       "      <td>40</td>\n",
       "      <td>Defensive Goalkeeper</td>\n",
       "    </tr>\n",
       "    <tr>\n",
       "      <th>14684</th>\n",
       "      <td>K. SAENSUK</td>\n",
       "      <td>SCG MUANGTHONG UNITED</td>\n",
       "      <td>TOYOTA Thai League</td>\n",
       "      <td>THAILAND</td>\n",
       "      <td>Asia-Oceania</td>\n",
       "      <td>68</td>\n",
       "      <td>26</td>\n",
       "      <td>Right foot</td>\n",
       "      <td>GK</td>\n",
       "      <td>0.0</td>\n",
       "      <td>...</td>\n",
       "      <td>40</td>\n",
       "      <td>40</td>\n",
       "      <td>40</td>\n",
       "      <td>40</td>\n",
       "      <td>40</td>\n",
       "      <td>40</td>\n",
       "      <td>40</td>\n",
       "      <td>40</td>\n",
       "      <td>40</td>\n",
       "      <td>Defensive Goalkeeper</td>\n",
       "    </tr>\n",
       "    <tr>\n",
       "      <th>14687</th>\n",
       "      <td>MOHAMMED ALDHULAYFI</td>\n",
       "      <td>AL TAAWOUN</td>\n",
       "      <td>AFC Champions League</td>\n",
       "      <td>SAUDI ARABIA</td>\n",
       "      <td>Asia-Oceania</td>\n",
       "      <td>74</td>\n",
       "      <td>20</td>\n",
       "      <td>Right foot</td>\n",
       "      <td>GK</td>\n",
       "      <td>0.0</td>\n",
       "      <td>...</td>\n",
       "      <td>40</td>\n",
       "      <td>40</td>\n",
       "      <td>40</td>\n",
       "      <td>40</td>\n",
       "      <td>40</td>\n",
       "      <td>40</td>\n",
       "      <td>40</td>\n",
       "      <td>40</td>\n",
       "      <td>40</td>\n",
       "      <td>Offensive Goalkeeper</td>\n",
       "    </tr>\n",
       "  </tbody>\n",
       "</table>\n",
       "<p>1711 rows × 65 columns</p>\n",
       "</div>"
      ],
      "text/plain": [
       "                      name              team_name                  league   \n",
       "5                 J. OBLAK        MADRID ROSAS RB          Spanish League  \\\n",
       "11                 ALISSON            LIVERPOOL R          English League   \n",
       "12                M. NEUER      FC BAYERN MÜNCHEN  Other European Leagues   \n",
       "17           M. TER STEGEN           FC BARCELONA          Spanish League   \n",
       "23            DAVID DE GEA      MANCHESTER UNITED          English League   \n",
       "...                    ...                    ...                     ...   \n",
       "14669        NAWAF ALAQIDI               AL NASSR    AFC Champions League   \n",
       "14670            A. ISAQOV              PAKHTAKOR    AFC Champions League   \n",
       "14678            C. RAKSRI            POLICE TERO      TOYOTA Thai League   \n",
       "14684           K. SAENSUK  SCG MUANGTHONG UNITED      TOYOTA Thai League   \n",
       "14687  MOHAMMED ALDHULAYFI             AL TAAWOUN    AFC Champions League   \n",
       "\n",
       "        nationality         region  weight  age        foot   \n",
       "5          SLOVENIA         Europe      87   27  Right foot  \\\n",
       "11           BRAZIL  South America      91   28  Right foot   \n",
       "12          GERMANY         Europe      92   34  Right foot   \n",
       "17          GERMANY         Europe      85   28  Right foot   \n",
       "23            SPAIN         Europe      82   30  Right foot   \n",
       "...             ...            ...     ...  ...         ...   \n",
       "14669  SAUDI ARABIA   Asia-Oceania      73   20  Right foot   \n",
       "14670    UZBEKISTAN   Asia-Oceania      74   20  Right foot   \n",
       "14678      THAILAND   Asia-Oceania      68   25  Right foot   \n",
       "14684      THAILAND   Asia-Oceania      68   26  Right foot   \n",
       "14687  SAUDI ARABIA   Asia-Oceania      74   20  Right foot   \n",
       "\n",
       "      registered_position  LWF  ...  rating_as_DMF  rating_as_CMF   \n",
       "5                      GK  0.0  ...             53             48  \\\n",
       "11                     GK  0.0  ...             57             55   \n",
       "12                     GK  0.0  ...             57             53   \n",
       "17                     GK  0.0  ...             52             49   \n",
       "23                     GK  0.0  ...             48             46   \n",
       "...                   ...  ...  ...            ...            ...   \n",
       "14669                  GK  0.0  ...             40             40   \n",
       "14670                  GK  0.0  ...             40             40   \n",
       "14678                  GK  0.0  ...             45             43   \n",
       "14684                  GK  0.0  ...             40             40   \n",
       "14687                  GK  0.0  ...             40             40   \n",
       "\n",
       "       rating_as_LMF  rating_as_RMF  rating_as_AMF  rating_as_LWF   \n",
       "5                 45             45             43             43  \\\n",
       "11                52             52             50             49   \n",
       "12                47             47             46             45   \n",
       "17                47             47             45             45   \n",
       "23                44             44             41             42   \n",
       "...              ...            ...            ...            ...   \n",
       "14669             40             40             40             40   \n",
       "14670             40             40             40             40   \n",
       "14678             41             41             40             40   \n",
       "14684             40             40             40             40   \n",
       "14687             40             40             40             40   \n",
       "\n",
       "       rating_as_RWF  rating_as_SS  rating_as_CF         playing_style  \n",
       "5                 43            44            40  Defensive Goalkeeper  \n",
       "11                49            50            42  Offensive Goalkeeper  \n",
       "12                45            45            40  Offensive Goalkeeper  \n",
       "17                45            46            40  Offensive Goalkeeper  \n",
       "23                42            43            40  Offensive Goalkeeper  \n",
       "...              ...           ...           ...                   ...  \n",
       "14669             40            40            40  Offensive Goalkeeper  \n",
       "14670             40            40            40  Offensive Goalkeeper  \n",
       "14678             40            40            40  Defensive Goalkeeper  \n",
       "14684             40            40            40  Defensive Goalkeeper  \n",
       "14687             40            40            40  Offensive Goalkeeper  \n",
       "\n",
       "[1711 rows x 65 columns]"
      ]
     },
     "execution_count": 19,
     "metadata": {},
     "output_type": "execute_result"
    }
   ],
   "source": [
    "goalkeepers_df.fillna(0) #filling the missing values with 0."
   ]
  },
  {
   "cell_type": "code",
   "execution_count": 20,
   "id": "4e231bca",
   "metadata": {},
   "outputs": [
    {
     "data": {
      "text/html": [
       "<div>\n",
       "<style scoped>\n",
       "    .dataframe tbody tr th:only-of-type {\n",
       "        vertical-align: middle;\n",
       "    }\n",
       "\n",
       "    .dataframe tbody tr th {\n",
       "        vertical-align: top;\n",
       "    }\n",
       "\n",
       "    .dataframe thead th {\n",
       "        text-align: right;\n",
       "    }\n",
       "</style>\n",
       "<table border=\"1\" class=\"dataframe\">\n",
       "  <thead>\n",
       "    <tr style=\"text-align: right;\">\n",
       "      <th></th>\n",
       "      <th>LWF</th>\n",
       "      <th>SS</th>\n",
       "      <th>CF</th>\n",
       "      <th>RWF</th>\n",
       "      <th>LMF</th>\n",
       "      <th>DMF</th>\n",
       "      <th>CMF</th>\n",
       "      <th>AMF</th>\n",
       "      <th>RMF</th>\n",
       "      <th>LB</th>\n",
       "      <th>CB</th>\n",
       "      <th>RB</th>\n",
       "    </tr>\n",
       "  </thead>\n",
       "  <tbody>\n",
       "    <tr>\n",
       "      <th>5</th>\n",
       "      <td>NaN</td>\n",
       "      <td>NaN</td>\n",
       "      <td>NaN</td>\n",
       "      <td>NaN</td>\n",
       "      <td>0</td>\n",
       "      <td>0</td>\n",
       "      <td>0</td>\n",
       "      <td>0</td>\n",
       "      <td>0</td>\n",
       "      <td>0</td>\n",
       "      <td>0</td>\n",
       "      <td>0</td>\n",
       "    </tr>\n",
       "    <tr>\n",
       "      <th>11</th>\n",
       "      <td>NaN</td>\n",
       "      <td>NaN</td>\n",
       "      <td>NaN</td>\n",
       "      <td>NaN</td>\n",
       "      <td>0</td>\n",
       "      <td>0</td>\n",
       "      <td>0</td>\n",
       "      <td>0</td>\n",
       "      <td>0</td>\n",
       "      <td>0</td>\n",
       "      <td>0</td>\n",
       "      <td>0</td>\n",
       "    </tr>\n",
       "    <tr>\n",
       "      <th>12</th>\n",
       "      <td>NaN</td>\n",
       "      <td>NaN</td>\n",
       "      <td>NaN</td>\n",
       "      <td>NaN</td>\n",
       "      <td>0</td>\n",
       "      <td>0</td>\n",
       "      <td>0</td>\n",
       "      <td>0</td>\n",
       "      <td>0</td>\n",
       "      <td>0</td>\n",
       "      <td>0</td>\n",
       "      <td>0</td>\n",
       "    </tr>\n",
       "    <tr>\n",
       "      <th>17</th>\n",
       "      <td>NaN</td>\n",
       "      <td>NaN</td>\n",
       "      <td>NaN</td>\n",
       "      <td>NaN</td>\n",
       "      <td>0</td>\n",
       "      <td>0</td>\n",
       "      <td>0</td>\n",
       "      <td>0</td>\n",
       "      <td>0</td>\n",
       "      <td>0</td>\n",
       "      <td>0</td>\n",
       "      <td>0</td>\n",
       "    </tr>\n",
       "    <tr>\n",
       "      <th>23</th>\n",
       "      <td>NaN</td>\n",
       "      <td>NaN</td>\n",
       "      <td>NaN</td>\n",
       "      <td>NaN</td>\n",
       "      <td>0</td>\n",
       "      <td>0</td>\n",
       "      <td>0</td>\n",
       "      <td>0</td>\n",
       "      <td>0</td>\n",
       "      <td>0</td>\n",
       "      <td>0</td>\n",
       "      <td>0</td>\n",
       "    </tr>\n",
       "    <tr>\n",
       "      <th>...</th>\n",
       "      <td>...</td>\n",
       "      <td>...</td>\n",
       "      <td>...</td>\n",
       "      <td>...</td>\n",
       "      <td>...</td>\n",
       "      <td>...</td>\n",
       "      <td>...</td>\n",
       "      <td>...</td>\n",
       "      <td>...</td>\n",
       "      <td>...</td>\n",
       "      <td>...</td>\n",
       "      <td>...</td>\n",
       "    </tr>\n",
       "    <tr>\n",
       "      <th>14669</th>\n",
       "      <td>NaN</td>\n",
       "      <td>NaN</td>\n",
       "      <td>NaN</td>\n",
       "      <td>NaN</td>\n",
       "      <td>0</td>\n",
       "      <td>0</td>\n",
       "      <td>0</td>\n",
       "      <td>0</td>\n",
       "      <td>0</td>\n",
       "      <td>0</td>\n",
       "      <td>0</td>\n",
       "      <td>0</td>\n",
       "    </tr>\n",
       "    <tr>\n",
       "      <th>14670</th>\n",
       "      <td>NaN</td>\n",
       "      <td>NaN</td>\n",
       "      <td>NaN</td>\n",
       "      <td>NaN</td>\n",
       "      <td>0</td>\n",
       "      <td>0</td>\n",
       "      <td>0</td>\n",
       "      <td>0</td>\n",
       "      <td>0</td>\n",
       "      <td>0</td>\n",
       "      <td>0</td>\n",
       "      <td>0</td>\n",
       "    </tr>\n",
       "    <tr>\n",
       "      <th>14678</th>\n",
       "      <td>NaN</td>\n",
       "      <td>NaN</td>\n",
       "      <td>NaN</td>\n",
       "      <td>NaN</td>\n",
       "      <td>0</td>\n",
       "      <td>0</td>\n",
       "      <td>0</td>\n",
       "      <td>0</td>\n",
       "      <td>0</td>\n",
       "      <td>0</td>\n",
       "      <td>0</td>\n",
       "      <td>0</td>\n",
       "    </tr>\n",
       "    <tr>\n",
       "      <th>14684</th>\n",
       "      <td>NaN</td>\n",
       "      <td>NaN</td>\n",
       "      <td>NaN</td>\n",
       "      <td>NaN</td>\n",
       "      <td>0</td>\n",
       "      <td>0</td>\n",
       "      <td>0</td>\n",
       "      <td>0</td>\n",
       "      <td>0</td>\n",
       "      <td>0</td>\n",
       "      <td>0</td>\n",
       "      <td>0</td>\n",
       "    </tr>\n",
       "    <tr>\n",
       "      <th>14687</th>\n",
       "      <td>NaN</td>\n",
       "      <td>NaN</td>\n",
       "      <td>NaN</td>\n",
       "      <td>NaN</td>\n",
       "      <td>0</td>\n",
       "      <td>0</td>\n",
       "      <td>0</td>\n",
       "      <td>0</td>\n",
       "      <td>0</td>\n",
       "      <td>0</td>\n",
       "      <td>0</td>\n",
       "      <td>0</td>\n",
       "    </tr>\n",
       "  </tbody>\n",
       "</table>\n",
       "<p>1711 rows × 12 columns</p>\n",
       "</div>"
      ],
      "text/plain": [
       "       LWF  SS  CF  RWF  LMF  DMF  CMF  AMF  RMF  LB  CB  RB\n",
       "5      NaN NaN NaN  NaN    0    0    0    0    0   0   0   0\n",
       "11     NaN NaN NaN  NaN    0    0    0    0    0   0   0   0\n",
       "12     NaN NaN NaN  NaN    0    0    0    0    0   0   0   0\n",
       "17     NaN NaN NaN  NaN    0    0    0    0    0   0   0   0\n",
       "23     NaN NaN NaN  NaN    0    0    0    0    0   0   0   0\n",
       "...    ...  ..  ..  ...  ...  ...  ...  ...  ...  ..  ..  ..\n",
       "14669  NaN NaN NaN  NaN    0    0    0    0    0   0   0   0\n",
       "14670  NaN NaN NaN  NaN    0    0    0    0    0   0   0   0\n",
       "14678  NaN NaN NaN  NaN    0    0    0    0    0   0   0   0\n",
       "14684  NaN NaN NaN  NaN    0    0    0    0    0   0   0   0\n",
       "14687  NaN NaN NaN  NaN    0    0    0    0    0   0   0   0\n",
       "\n",
       "[1711 rows x 12 columns]"
      ]
     },
     "execution_count": 20,
     "metadata": {},
     "output_type": "execute_result"
    }
   ],
   "source": [
    "goalkeepers_df.loc[:, 'LWF':'RB']"
   ]
  },
  {
   "cell_type": "markdown",
   "id": "1ec7086a",
   "metadata": {},
   "source": [
    "### Now our data is prepared and now we can carry out our analysis."
   ]
  },
  {
   "cell_type": "markdown",
   "id": "b0adc093",
   "metadata": {},
   "source": [
    "# Exploratory Analysis and Visualization"
   ]
  },
  {
   "cell_type": "markdown",
   "id": "43d1480e",
   "metadata": {},
   "source": [
    "##  NATIONS AND CLUBS"
   ]
  },
  {
   "cell_type": "code",
   "execution_count": 21,
   "id": "411e227e",
   "metadata": {},
   "outputs": [
    {
     "data": {
      "text/plain": [
       "157"
      ]
     },
     "execution_count": 21,
     "metadata": {},
     "output_type": "execute_result"
    }
   ],
   "source": [
    "no_of_countries = df.nationality.nunique()\n",
    "no_of_countries"
   ]
  },
  {
   "cell_type": "code",
   "execution_count": 22,
   "id": "65ddff00",
   "metadata": {},
   "outputs": [
    {
     "data": {
      "text/plain": [
       "nationality\n",
       "BRAZIL               1439\n",
       "SPAIN                 967\n",
       "ARGENTINA             924\n",
       "FRANCE                907\n",
       "ITALY                 779\n",
       "ENGLAND               747\n",
       "COLOMBIA              580\n",
       "CHINA                 496\n",
       "CHILE                 491\n",
       "TURKEY                418\n",
       "THAILAND              395\n",
       "NETHERLANDS           388\n",
       "PORTUGAL              388\n",
       "RUSSIA                345\n",
       "BELGIUM               287\n",
       "DENMARK               257\n",
       "SCOTLAND              245\n",
       "SWITZERLAND           230\n",
       "REPUBLIC OF KOREA     159\n",
       "GERMANY               148\n",
       "Name: count, dtype: int64"
      ]
     },
     "execution_count": 22,
     "metadata": {},
     "output_type": "execute_result"
    }
   ],
   "source": [
    "top_countries = df.nationality.value_counts().head(20)\n",
    "top_countries"
   ]
  },
  {
   "cell_type": "markdown",
   "id": "51a46a07",
   "metadata": {},
   "source": [
    "#### These are the top 20 nations on basis of number of players.\n",
    "#### "
   ]
  },
  {
   "cell_type": "code",
   "execution_count": 23,
   "id": "c62f6d7a",
   "metadata": {},
   "outputs": [
    {
     "data": {
      "text/plain": [
       "<Axes: title={'center': 'Top Countries'}, xlabel='nationality', ylabel='count'>"
      ]
     },
     "execution_count": 23,
     "metadata": {},
     "output_type": "execute_result"
    },
    {
     "data": {
      "image/png": "[encoded data removed]",
      "text/plain": [
       "<Figure size 800x600 with 1 Axes>"
      ]
     },
     "metadata": {},
     "output_type": "display_data"
    }
   ],
   "source": [
    "#bar graph of top 20 countries with maximum number of players\n",
    "top_countries = df.nationality.value_counts().head(20)\n",
    "plt.figure(figsize=(8,6))\n",
    "plt.xticks(rotation=90)\n",
    "plt.title(\"Top Countries\")\n",
    "sns.barplot(x = top_countries.index, y=top_countries, data=df)"
   ]
  },
  {
   "cell_type": "markdown",
   "id": "6606f69c",
   "metadata": {},
   "source": [
    "### From above analysis we can say that Pes2021 includes players from 157 unique countries, and brazil is the leading nation where most of the players belong from (1439)."
   ]
  },
  {
   "cell_type": "code",
   "execution_count": 24,
   "id": "8ebb18a0",
   "metadata": {},
   "outputs": [
    {
     "data": {
      "text/plain": [
       "466"
      ]
     },
     "execution_count": 24,
     "metadata": {},
     "output_type": "execute_result"
    }
   ],
   "source": [
    "#Different clubs available in Pes2021\n",
    "no_of_clubs=df.team_name.nunique()\n",
    "no_of_clubs"
   ]
  },
  {
   "cell_type": "code",
   "execution_count": 25,
   "id": "7908e838",
   "metadata": {},
   "outputs": [
    {
     "data": {
      "text/plain": [
       "team_name\n",
       "Free Agents             1242\n",
       "GUANGZHOU EVERGRANDE      54\n",
       "SHANGHAI SIPG             54\n",
       "SHANGHAI SHENHUA          48\n",
       "CHIANGRAI UNITED          45\n",
       "CHELSEA B                 40\n",
       "SPORTING CP               40\n",
       "AL SADD                   40\n",
       "WATFORD BY                40\n",
       "SHARJAH                   40\n",
       "GENÇLERBİRLİĞİ            40\n",
       "CÁDIZ AA                  40\n",
       "AL DUHAIL                 40\n",
       "SÃO PAULO                 40\n",
       "VÉLEZ SARSFIELD           39\n",
       "BENFICA                   39\n",
       "DEPORTES LA SERENA        39\n",
       "ANKARAGÜCÜ                39\n",
       "SEOUL                     39\n",
       "TRABZONSPOR               39\n",
       "Name: count, dtype: int64"
      ]
     },
     "execution_count": 25,
     "metadata": {},
     "output_type": "execute_result"
    }
   ],
   "source": [
    "#clubs with maximum number of players\n",
    "clubs_players = df.team_name.value_counts().head(20)\n",
    "clubs_players\n"
   ]
  },
  {
   "cell_type": "code",
   "execution_count": 26,
   "id": "583def93",
   "metadata": {},
   "outputs": [
    {
     "data": {
      "text/plain": [
       "team_name\n",
       "MANCHESTER B         78.965517\n",
       "ARSENAL              78.235294\n",
       "LIVERPOOL R          77.722222\n",
       "CHELSEA B            77.650000\n",
       "MANCHESTER UNITED    76.388889\n",
       "LEICESTER B          75.781250\n",
       "TOTTENHAM WB         75.657143\n",
       "NEWCASTLE WB         74.266667\n",
       "EVERTON B            74.060606\n",
       "WEST HAM RB          73.965517\n",
       "SHEFFIELD RB         73.880000\n",
       "WOLVERHAMPTON YB     73.300000\n",
       "CRYSTAL PALACE RB    73.034483\n",
       "ASTON RB             73.032258\n",
       "SOUTHAMPTON RW       72.310345\n",
       "FULHAM W             71.787879\n",
       "BRIGHTON WB          71.428571\n",
       "BURNLEY RB           70.566667\n",
       "WEST BROMWICH WB     70.107143\n",
       "LEEDS W              68.968750\n",
       "Name: overall_rating, dtype: float64"
      ]
     },
     "execution_count": 26,
     "metadata": {},
     "output_type": "execute_result"
    }
   ],
   "source": [
    "premierLeague = df[df['league'] == 'English League']\n",
    "top_clubs_in_prem = premierLeague.groupby('team_name')['overall_rating'].mean().sort_values(ascending=False)\n",
    "top_clubs_in_prem"
   ]
  },
  {
   "cell_type": "code",
   "execution_count": 46,
   "id": "eb6a2014",
   "metadata": {},
   "outputs": [
    {
     "data": {
      "image/png": "[encoded data removed]",
      "text/plain": [
       "<Figure size 800x600 with 1 Axes>"
      ]
     },
     "metadata": {},
     "output_type": "display_data"
    }
   ],
   "source": [
    "premierLeague = df[df['league'] == 'English League']\n",
    "top_clubs_in_prem = premierLeague.groupby('team_name')['overall_rating'].mean().sort_values(ascending=False)\n",
    "\n",
    "# Reset the index to retain the team names as tick labels on the x-axis\n",
    "top_clubs_in_prem = top_clubs_in_prem.reset_index()\n",
    "\n",
    "plt.figure(figsize=(8, 6))\n",
    "plt.xticks(rotation=90)\n",
    "plt.title(\"English Premier League\")\n",
    "\n",
    "sns.stripplot(x='team_name', y='overall_rating', data=top_clubs_in_prem, jitter=True)\n",
    "\n",
    "plt.show()"
   ]
  },
  {
   "cell_type": "markdown",
   "id": "0081dc6d",
   "metadata": {},
   "source": [
    "## AGE CATEGORY"
   ]
  },
  {
   "cell_type": "code",
   "execution_count": 43,
   "id": "b45550f3",
   "metadata": {},
   "outputs": [
    {
     "data": {
      "image/png": "[encoded data removed]",
      "text/plain": [
       "<Figure size 800x600 with 1 Axes>"
      ]
     },
     "metadata": {},
     "output_type": "display_data"
    }
   ],
   "source": [
    "#histogram depicting number of players in different age groups\n",
    "plt.figure(figsize=(8, 6))\n",
    "\n",
    "plt.xlabel('Age')\n",
    "plt.ylabel('Number of respondents')\n",
    "\n",
    "plt.hist(df.age, bins=np.arange(15,50,5), color='blue', edgecolor='.8');"
   ]
  },
  {
   "cell_type": "markdown",
   "id": "a5ee8eaa",
   "metadata": {},
   "source": [
    "#### 21-25 is our top age category followed by 26-30 and 31-35"
   ]
  },
  {
   "cell_type": "code",
   "execution_count": 29,
   "id": "ece2804d",
   "metadata": {},
   "outputs": [
    {
     "data": {
      "image/png": "[encoded data removed]",
      "text/plain": [
       "<Figure size 1000x800 with 1 Axes>"
      ]
     },
     "metadata": {},
     "output_type": "display_data"
    }
   ],
   "source": [
    "#Scatterplot of overall_rating vs age \n",
    "plt.figure(figsize=(10,8))\n",
    "plt.title('Age vs Overall Rating')\n",
    "\n",
    "sns.scatterplot(x=df.age, y=df.overall_rating, data=df)\n",
    "plt.grid(True)\n",
    "plt.show()"
   ]
  },
  {
   "cell_type": "markdown",
   "id": "eb28ad1d",
   "metadata": {},
   "source": [
    "### Observations from scatterplot:\n",
    "#####     There is no player above age 40 who has rating more than 80.\n",
    "#####     There is only single player from age group 15-20 who has rating above 80.\n",
    "#####     The highest and the second highest rated player is from the age group 30-35  "
   ]
  },
  {
   "cell_type": "markdown",
   "id": "6c6385dd",
   "metadata": {},
   "source": [
    "# Questions"
   ]
  },
  {
   "cell_type": "markdown",
   "id": "712260a6",
   "metadata": {},
   "source": [
    "## Who are the top 10 players with highest overall ratings in Pes2021?"
   ]
  },
  {
   "cell_type": "code",
   "execution_count": 30,
   "id": "55d8d2b1",
   "metadata": {},
   "outputs": [
    {
     "data": {
      "text/html": [
       "<div>\n",
       "<style scoped>\n",
       "    .dataframe tbody tr th:only-of-type {\n",
       "        vertical-align: middle;\n",
       "    }\n",
       "\n",
       "    .dataframe tbody tr th {\n",
       "        vertical-align: top;\n",
       "    }\n",
       "\n",
       "    .dataframe thead th {\n",
       "        text-align: right;\n",
       "    }\n",
       "</style>\n",
       "<table border=\"1\" class=\"dataframe\">\n",
       "  <thead>\n",
       "    <tr style=\"text-align: right;\">\n",
       "      <th></th>\n",
       "      <th>name</th>\n",
       "      <th>overall_rating</th>\n",
       "    </tr>\n",
       "  </thead>\n",
       "  <tbody>\n",
       "    <tr>\n",
       "      <th>0</th>\n",
       "      <td>L. MESSI</td>\n",
       "      <td>94</td>\n",
       "    </tr>\n",
       "    <tr>\n",
       "      <th>1</th>\n",
       "      <td>C. RONALDO</td>\n",
       "      <td>93</td>\n",
       "    </tr>\n",
       "    <tr>\n",
       "      <th>2</th>\n",
       "      <td>R. LEWANDOWSKI</td>\n",
       "      <td>92</td>\n",
       "    </tr>\n",
       "    <tr>\n",
       "      <th>3</th>\n",
       "      <td>NEYMAR</td>\n",
       "      <td>92</td>\n",
       "    </tr>\n",
       "    <tr>\n",
       "      <th>4</th>\n",
       "      <td>K. DE BRUYNE</td>\n",
       "      <td>92</td>\n",
       "    </tr>\n",
       "    <tr>\n",
       "      <th>5</th>\n",
       "      <td>J. OBLAK</td>\n",
       "      <td>91</td>\n",
       "    </tr>\n",
       "    <tr>\n",
       "      <th>6</th>\n",
       "      <td>V. VAN DIJK</td>\n",
       "      <td>91</td>\n",
       "    </tr>\n",
       "    <tr>\n",
       "      <th>7</th>\n",
       "      <td>K. MBAPPÉ</td>\n",
       "      <td>91</td>\n",
       "    </tr>\n",
       "    <tr>\n",
       "      <th>8</th>\n",
       "      <td>SERGIO RAMOS</td>\n",
       "      <td>90</td>\n",
       "    </tr>\n",
       "    <tr>\n",
       "      <th>9</th>\n",
       "      <td>S. AGÜERO</td>\n",
       "      <td>90</td>\n",
       "    </tr>\n",
       "  </tbody>\n",
       "</table>\n",
       "</div>"
      ],
      "text/plain": [
       "             name  overall_rating\n",
       "0        L. MESSI              94\n",
       "1      C. RONALDO              93\n",
       "2  R. LEWANDOWSKI              92\n",
       "3          NEYMAR              92\n",
       "4    K. DE BRUYNE              92\n",
       "5        J. OBLAK              91\n",
       "6     V. VAN DIJK              91\n",
       "7       K. MBAPPÉ              91\n",
       "8    SERGIO RAMOS              90\n",
       "9       S. AGÜERO              90"
      ]
     },
     "execution_count": 30,
     "metadata": {},
     "output_type": "execute_result"
    }
   ],
   "source": [
    "#Since the players are already sorted according to their overall ratings we just need to return head(10)\n",
    "top_10df= df[['name', 'overall_rating']].head(10)\n",
    "top_10df"
   ]
  },
  {
   "cell_type": "markdown",
   "id": "6ba74a7c",
   "metadata": {},
   "source": [
    "## Q: Who are the top 5 players having the highest rating in each category (forwards, midfielders, defenders, goalkeepers) in Pes21 ?"
   ]
  },
  {
   "cell_type": "markdown",
   "id": "491fbe4b",
   "metadata": {},
   "source": [
    "### Forwards"
   ]
  },
  {
   "cell_type": "code",
   "execution_count": 53,
   "id": "2a58ef15",
   "metadata": {},
   "outputs": [
    {
     "data": {
      "text/plain": [
       "(             name  overall_rating\n",
       " 0        L. MESSI              94\n",
       " 1      C. RONALDO              93\n",
       " 2  R. LEWANDOWSKI              92,\n",
       "             name  overall_rating\n",
       " 4   K. DE BRUYNE              92\n",
       " 14      CASEMIRO              89\n",
       " 19      T. KROOS              88,\n",
       "             name  overall_rating\n",
       " 6    V. VAN DIJK              91\n",
       " 8   SERGIO RAMOS              90\n",
       " 26     R. VARANE              88)"
      ]
     },
     "execution_count": 53,
     "metadata": {},
     "output_type": "execute_result"
    }
   ],
   "source": [
    "top_fwd = forwards_df[['name','overall_rating']].head(3)\n",
    "top_midfld = midfielders_df[['name','overall_rating']].head(3)\n",
    "top_defend = defenders_df[['name','overall_rating']].head(3)\n",
    "top_fwd, top_midfld, top_defend"
   ]
  },
  {
   "cell_type": "markdown",
   "id": "3b2a216d",
   "metadata": {},
   "source": [
    "### Midfielders"
   ]
  },
  {
   "cell_type": "code",
   "execution_count": 32,
   "id": "a3bbe15b",
   "metadata": {},
   "outputs": [
    {
     "data": {
      "text/html": [
       "<div>\n",
       "<style scoped>\n",
       "    .dataframe tbody tr th:only-of-type {\n",
       "        vertical-align: middle;\n",
       "    }\n",
       "\n",
       "    .dataframe tbody tr th {\n",
       "        vertical-align: top;\n",
       "    }\n",
       "\n",
       "    .dataframe thead th {\n",
       "        text-align: right;\n",
       "    }\n",
       "</style>\n",
       "<table border=\"1\" class=\"dataframe\">\n",
       "  <thead>\n",
       "    <tr style=\"text-align: right;\">\n",
       "      <th></th>\n",
       "      <th>name</th>\n",
       "      <th>overall_rating</th>\n",
       "    </tr>\n",
       "  </thead>\n",
       "  <tbody>\n",
       "    <tr>\n",
       "      <th>4</th>\n",
       "      <td>K. DE BRUYNE</td>\n",
       "      <td>92</td>\n",
       "    </tr>\n",
       "    <tr>\n",
       "      <th>14</th>\n",
       "      <td>CASEMIRO</td>\n",
       "      <td>89</td>\n",
       "    </tr>\n",
       "    <tr>\n",
       "      <th>19</th>\n",
       "      <td>T. KROOS</td>\n",
       "      <td>88</td>\n",
       "    </tr>\n",
       "    <tr>\n",
       "      <th>21</th>\n",
       "      <td>BUSQUETS</td>\n",
       "      <td>88</td>\n",
       "    </tr>\n",
       "    <tr>\n",
       "      <th>24</th>\n",
       "      <td>THIAGO</td>\n",
       "      <td>88</td>\n",
       "    </tr>\n",
       "    <tr>\n",
       "      <th>31</th>\n",
       "      <td>N. KANTÉ</td>\n",
       "      <td>88</td>\n",
       "    </tr>\n",
       "    <tr>\n",
       "      <th>32</th>\n",
       "      <td>J. KIMMICH</td>\n",
       "      <td>88</td>\n",
       "    </tr>\n",
       "    <tr>\n",
       "      <th>39</th>\n",
       "      <td>SON HEUNG-MIN</td>\n",
       "      <td>87</td>\n",
       "    </tr>\n",
       "    <tr>\n",
       "      <th>40</th>\n",
       "      <td>MARQUINHOS</td>\n",
       "      <td>87</td>\n",
       "    </tr>\n",
       "    <tr>\n",
       "      <th>41</th>\n",
       "      <td>M. VERRATTI</td>\n",
       "      <td>87</td>\n",
       "    </tr>\n",
       "  </tbody>\n",
       "</table>\n",
       "</div>"
      ],
      "text/plain": [
       "             name  overall_rating\n",
       "4    K. DE BRUYNE              92\n",
       "14       CASEMIRO              89\n",
       "19       T. KROOS              88\n",
       "21       BUSQUETS              88\n",
       "24         THIAGO              88\n",
       "31       N. KANTÉ              88\n",
       "32     J. KIMMICH              88\n",
       "39  SON HEUNG-MIN              87\n",
       "40     MARQUINHOS              87\n",
       "41    M. VERRATTI              87"
      ]
     },
     "execution_count": 32,
     "metadata": {},
     "output_type": "execute_result"
    }
   ],
   "source": [
    "top_midfld = midfielders_df[['name','overall_rating']].head(10)\n",
    "top_midfld"
   ]
  },
  {
   "cell_type": "markdown",
   "id": "dc1a21c3",
   "metadata": {},
   "source": [
    "### Defenders"
   ]
  },
  {
   "cell_type": "code",
   "execution_count": 33,
   "id": "ee09cedd",
   "metadata": {},
   "outputs": [
    {
     "data": {
      "text/html": [
       "<div>\n",
       "<style scoped>\n",
       "    .dataframe tbody tr th:only-of-type {\n",
       "        vertical-align: middle;\n",
       "    }\n",
       "\n",
       "    .dataframe tbody tr th {\n",
       "        vertical-align: top;\n",
       "    }\n",
       "\n",
       "    .dataframe thead th {\n",
       "        text-align: right;\n",
       "    }\n",
       "</style>\n",
       "<table border=\"1\" class=\"dataframe\">\n",
       "  <thead>\n",
       "    <tr style=\"text-align: right;\">\n",
       "      <th></th>\n",
       "      <th>name</th>\n",
       "      <th>overall_rating</th>\n",
       "    </tr>\n",
       "  </thead>\n",
       "  <tbody>\n",
       "    <tr>\n",
       "      <th>6</th>\n",
       "      <td>V. VAN DIJK</td>\n",
       "      <td>91</td>\n",
       "    </tr>\n",
       "    <tr>\n",
       "      <th>8</th>\n",
       "      <td>SERGIO RAMOS</td>\n",
       "      <td>90</td>\n",
       "    </tr>\n",
       "    <tr>\n",
       "      <th>26</th>\n",
       "      <td>R. VARANE</td>\n",
       "      <td>88</td>\n",
       "    </tr>\n",
       "    <tr>\n",
       "      <th>33</th>\n",
       "      <td>PIQUÉ</td>\n",
       "      <td>87</td>\n",
       "    </tr>\n",
       "    <tr>\n",
       "      <th>38</th>\n",
       "      <td>D. ALABA</td>\n",
       "      <td>87</td>\n",
       "    </tr>\n",
       "    <tr>\n",
       "      <th>45</th>\n",
       "      <td>K. KOULIBALY</td>\n",
       "      <td>87</td>\n",
       "    </tr>\n",
       "    <tr>\n",
       "      <th>49</th>\n",
       "      <td>T. ALEXANDER-ARNOLD</td>\n",
       "      <td>87</td>\n",
       "    </tr>\n",
       "    <tr>\n",
       "      <th>51</th>\n",
       "      <td>G. CHIELLINI</td>\n",
       "      <td>86</td>\n",
       "    </tr>\n",
       "    <tr>\n",
       "      <th>55</th>\n",
       "      <td>THIAGO SILVA</td>\n",
       "      <td>86</td>\n",
       "    </tr>\n",
       "    <tr>\n",
       "      <th>58</th>\n",
       "      <td>S. DE VRIJ</td>\n",
       "      <td>86</td>\n",
       "    </tr>\n",
       "  </tbody>\n",
       "</table>\n",
       "</div>"
      ],
      "text/plain": [
       "                   name  overall_rating\n",
       "6           V. VAN DIJK              91\n",
       "8          SERGIO RAMOS              90\n",
       "26            R. VARANE              88\n",
       "33                PIQUÉ              87\n",
       "38             D. ALABA              87\n",
       "45         K. KOULIBALY              87\n",
       "49  T. ALEXANDER-ARNOLD              87\n",
       "51         G. CHIELLINI              86\n",
       "55         THIAGO SILVA              86\n",
       "58           S. DE VRIJ              86"
      ]
     },
     "execution_count": 33,
     "metadata": {},
     "output_type": "execute_result"
    }
   ],
   "source": [
    "top_defend = defenders_df[['name','overall_rating']].head(10)\n",
    "top_defend"
   ]
  },
  {
   "cell_type": "markdown",
   "id": "679782db",
   "metadata": {},
   "source": [
    "### Goalkeepers"
   ]
  },
  {
   "cell_type": "code",
   "execution_count": 34,
   "id": "22f3465c",
   "metadata": {},
   "outputs": [
    {
     "data": {
      "text/html": [
       "<div>\n",
       "<style scoped>\n",
       "    .dataframe tbody tr th:only-of-type {\n",
       "        vertical-align: middle;\n",
       "    }\n",
       "\n",
       "    .dataframe tbody tr th {\n",
       "        vertical-align: top;\n",
       "    }\n",
       "\n",
       "    .dataframe thead th {\n",
       "        text-align: right;\n",
       "    }\n",
       "</style>\n",
       "<table border=\"1\" class=\"dataframe\">\n",
       "  <thead>\n",
       "    <tr style=\"text-align: right;\">\n",
       "      <th></th>\n",
       "      <th>name</th>\n",
       "      <th>overall_rating</th>\n",
       "    </tr>\n",
       "  </thead>\n",
       "  <tbody>\n",
       "    <tr>\n",
       "      <th>5</th>\n",
       "      <td>J. OBLAK</td>\n",
       "      <td>91</td>\n",
       "    </tr>\n",
       "    <tr>\n",
       "      <th>11</th>\n",
       "      <td>ALISSON</td>\n",
       "      <td>90</td>\n",
       "    </tr>\n",
       "    <tr>\n",
       "      <th>12</th>\n",
       "      <td>M. NEUER</td>\n",
       "      <td>89</td>\n",
       "    </tr>\n",
       "    <tr>\n",
       "      <th>17</th>\n",
       "      <td>M. TER STEGEN</td>\n",
       "      <td>89</td>\n",
       "    </tr>\n",
       "    <tr>\n",
       "      <th>23</th>\n",
       "      <td>DAVID DE GEA</td>\n",
       "      <td>88</td>\n",
       "    </tr>\n",
       "    <tr>\n",
       "      <th>27</th>\n",
       "      <td>T. COURTOIS</td>\n",
       "      <td>88</td>\n",
       "    </tr>\n",
       "    <tr>\n",
       "      <th>29</th>\n",
       "      <td>EDERSON</td>\n",
       "      <td>88</td>\n",
       "    </tr>\n",
       "    <tr>\n",
       "      <th>34</th>\n",
       "      <td>S. HANDANOVIČ</td>\n",
       "      <td>87</td>\n",
       "    </tr>\n",
       "    <tr>\n",
       "      <th>36</th>\n",
       "      <td>W. SZCZĘSNY</td>\n",
       "      <td>87</td>\n",
       "    </tr>\n",
       "    <tr>\n",
       "      <th>50</th>\n",
       "      <td>H. LLORIS</td>\n",
       "      <td>86</td>\n",
       "    </tr>\n",
       "  </tbody>\n",
       "</table>\n",
       "</div>"
      ],
      "text/plain": [
       "             name  overall_rating\n",
       "5        J. OBLAK              91\n",
       "11        ALISSON              90\n",
       "12       M. NEUER              89\n",
       "17  M. TER STEGEN              89\n",
       "23   DAVID DE GEA              88\n",
       "27    T. COURTOIS              88\n",
       "29        EDERSON              88\n",
       "34  S. HANDANOVIČ              87\n",
       "36    W. SZCZĘSNY              87\n",
       "50      H. LLORIS              86"
      ]
     },
     "execution_count": 34,
     "metadata": {},
     "output_type": "execute_result"
    }
   ],
   "source": [
    "top_gk = goalkeepers_df[['name','overall_rating']].head(10)\n",
    "top_gk"
   ]
  },
  {
   "cell_type": "markdown",
   "id": "ca13b075",
   "metadata": {},
   "source": [
    "## Which are the top 5 leagues? (Based on overall_rating)"
   ]
  },
  {
   "cell_type": "markdown",
   "id": "c548f667",
   "metadata": {},
   "source": [
    "### We will achieve this by calculating the mean of overall_rating of all players in their respective league."
   ]
  },
  {
   "cell_type": "code",
   "execution_count": 35,
   "id": "1aea28f6",
   "metadata": {},
   "outputs": [
    {
     "data": {
      "text/plain": [
       "league\n",
       "Spanish League                  74.319658\n",
       "Serie A TIM                     74.310526\n",
       "English League                  74.174528\n",
       "Ligue 1 Uber Eats               72.798942\n",
       "Tinkoff Russian Premier Liga    70.243590\n",
       "Name: overall_rating, dtype: float64"
      ]
     },
     "execution_count": 35,
     "metadata": {},
     "output_type": "execute_result"
    }
   ],
   "source": [
    "all_leagues = df.groupby('league')['overall_rating'].mean().sort_values(ascending=False).head(5)\n",
    "all_leagues"
   ]
  },
  {
   "cell_type": "code",
   "execution_count": 36,
   "id": "0930701e",
   "metadata": {},
   "outputs": [
    {
     "data": {
      "image/png": "[encoded data removed]",
      "text/plain": [
       "<Figure size 800x600 with 1 Axes>"
      ]
     },
     "metadata": {},
     "output_type": "display_data"
    }
   ],
   "source": [
    "plt.figure(figsize=(8, 6))\n",
    "plt.xticks(rotation=90)\n",
    "plt.title(\"Top leagues\")\n",
    "\n",
    "# Create the bar plot using Seaborn\n",
    "sns.barplot(x=all_leagues.index, y=all_leagues)\n",
    "\n",
    "# Add the values on top of the bars\n",
    "for index, value in enumerate(all_leagues):\n",
    "    plt.text(index, value, str(round(value, 2)), ha='center', va='bottom', fontsize=10)\n",
    "\n",
    "plt.show()"
   ]
  },
  {
   "cell_type": "markdown",
   "id": "3546192e",
   "metadata": {},
   "source": [
    "### We can see that Top 3 leagues are spanish league, Serie A and English league with marginal differences"
   ]
  },
  {
   "cell_type": "code",
   "execution_count": null,
   "id": "e44e0c22",
   "metadata": {},
   "outputs": [],
   "source": []
  }
 ],
 "metadata": {
  "kernelspec": {
   "display_name": "Python 3 (ipykernel)",
   "language": "python",
   "name": "python3"
  },
  "language_info": {
   "codemirror_mode": {
    "name": "ipython",
    "version": 3
   },
   "file_extension": ".py",
   "mimetype": "text/x-python",
   "name": "python",
   "nbconvert_exporter": "python",
   "pygments_lexer": "ipython3",
   "version": "3.10.12"
  }
 },
 "nbformat": 4,
 "nbformat_minor": 5
}
