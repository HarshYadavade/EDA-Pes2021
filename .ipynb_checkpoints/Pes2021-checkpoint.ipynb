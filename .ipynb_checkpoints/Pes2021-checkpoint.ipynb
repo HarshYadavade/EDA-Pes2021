{
 "cells": [
  {
   "cell_type": "code",
   "execution_count": 3,
   "id": "f842523e",
   "metadata": {},
   "outputs": [],
   "source": [
    "import numpy as np\n",
    "import pandas as pd\n",
    "import matplotlib.pyplot as plt\n",
    "import seaborn as sns"
   ]
  },
  {
   "cell_type": "code",
   "execution_count": 4,
   "id": "13e07582",
   "metadata": {},
   "outputs": [],
   "source": [
    "df = pd.read_csv('pes2021-all-players.csv')"
   ]
  },
  {
   "cell_type": "code",
   "execution_count": 5,
   "id": "17aca1d7",
   "metadata": {},
   "outputs": [
    {
     "data": {
      "text/html": [
       "<div>\n",
       "<style scoped>\n",
       "    .dataframe tbody tr th:only-of-type {\n",
       "        vertical-align: middle;\n",
       "    }\n",
       "\n",
       "    .dataframe tbody tr th {\n",
       "        vertical-align: top;\n",
       "    }\n",
       "\n",
       "    .dataframe thead th {\n",
       "        text-align: right;\n",
       "    }\n",
       "</style>\n",
       "<table border=\"1\" class=\"dataframe\">\n",
       "  <thead>\n",
       "    <tr style=\"text-align: right;\">\n",
       "      <th></th>\n",
       "      <th>name</th>\n",
       "      <th>shirt_number</th>\n",
       "      <th>team_name</th>\n",
       "      <th>league</th>\n",
       "      <th>nationality</th>\n",
       "      <th>region</th>\n",
       "      <th>height</th>\n",
       "      <th>weight</th>\n",
       "      <th>age</th>\n",
       "      <th>foot</th>\n",
       "      <th>...</th>\n",
       "      <th>skill_super_sub</th>\n",
       "      <th>com_playing_style_trickster</th>\n",
       "      <th>com_playing_style_mazing_run</th>\n",
       "      <th>com_playing_style_speeding_bullet</th>\n",
       "      <th>com_playing_style_incisive_run</th>\n",
       "      <th>com_playing_style_early_cross</th>\n",
       "      <th>com_playing_style_long_ball_expert</th>\n",
       "      <th>com_playing_style_long_ranger</th>\n",
       "      <th>ball_color</th>\n",
       "      <th>rating_stars</th>\n",
       "    </tr>\n",
       "  </thead>\n",
       "  <tbody>\n",
       "    <tr>\n",
       "      <th>0</th>\n",
       "      <td>L. MESSI</td>\n",
       "      <td>10</td>\n",
       "      <td>FC BARCELONA</td>\n",
       "      <td>Spanish League</td>\n",
       "      <td>ARGENTINA</td>\n",
       "      <td>South America</td>\n",
       "      <td>170</td>\n",
       "      <td>72</td>\n",
       "      <td>33</td>\n",
       "      <td>Left foot</td>\n",
       "      <td>...</td>\n",
       "      <td>0</td>\n",
       "      <td>1</td>\n",
       "      <td>1</td>\n",
       "      <td>1</td>\n",
       "      <td>1</td>\n",
       "      <td>1</td>\n",
       "      <td>0</td>\n",
       "      <td>0</td>\n",
       "      <td>black</td>\n",
       "      <td>5</td>\n",
       "    </tr>\n",
       "    <tr>\n",
       "      <th>1</th>\n",
       "      <td>C. RONALDO</td>\n",
       "      <td>7</td>\n",
       "      <td>JUVENTUS</td>\n",
       "      <td>Serie A TIM</td>\n",
       "      <td>PORTUGAL</td>\n",
       "      <td>Europe</td>\n",
       "      <td>187</td>\n",
       "      <td>83</td>\n",
       "      <td>35</td>\n",
       "      <td>Right foot</td>\n",
       "      <td>...</td>\n",
       "      <td>0</td>\n",
       "      <td>1</td>\n",
       "      <td>1</td>\n",
       "      <td>1</td>\n",
       "      <td>1</td>\n",
       "      <td>0</td>\n",
       "      <td>0</td>\n",
       "      <td>1</td>\n",
       "      <td>black</td>\n",
       "      <td>5</td>\n",
       "    </tr>\n",
       "    <tr>\n",
       "      <th>2</th>\n",
       "      <td>R. LEWANDOWSKI</td>\n",
       "      <td>9</td>\n",
       "      <td>FC BAYERN MÜNCHEN</td>\n",
       "      <td>Other European Leagues</td>\n",
       "      <td>POLAND</td>\n",
       "      <td>Europe</td>\n",
       "      <td>185</td>\n",
       "      <td>79</td>\n",
       "      <td>32</td>\n",
       "      <td>Right foot</td>\n",
       "      <td>...</td>\n",
       "      <td>0</td>\n",
       "      <td>0</td>\n",
       "      <td>0</td>\n",
       "      <td>0</td>\n",
       "      <td>1</td>\n",
       "      <td>0</td>\n",
       "      <td>0</td>\n",
       "      <td>0</td>\n",
       "      <td>black</td>\n",
       "      <td>5</td>\n",
       "    </tr>\n",
       "    <tr>\n",
       "      <th>3</th>\n",
       "      <td>NEYMAR</td>\n",
       "      <td>10</td>\n",
       "      <td>PSG</td>\n",
       "      <td>Ligue 1 Uber Eats</td>\n",
       "      <td>BRAZIL</td>\n",
       "      <td>South America</td>\n",
       "      <td>175</td>\n",
       "      <td>68</td>\n",
       "      <td>28</td>\n",
       "      <td>Right foot</td>\n",
       "      <td>...</td>\n",
       "      <td>0</td>\n",
       "      <td>1</td>\n",
       "      <td>1</td>\n",
       "      <td>1</td>\n",
       "      <td>1</td>\n",
       "      <td>0</td>\n",
       "      <td>0</td>\n",
       "      <td>0</td>\n",
       "      <td>black</td>\n",
       "      <td>5</td>\n",
       "    </tr>\n",
       "    <tr>\n",
       "      <th>4</th>\n",
       "      <td>K. DE BRUYNE</td>\n",
       "      <td>17</td>\n",
       "      <td>MANCHESTER B</td>\n",
       "      <td>English League</td>\n",
       "      <td>BELGIUM</td>\n",
       "      <td>Europe</td>\n",
       "      <td>181</td>\n",
       "      <td>68</td>\n",
       "      <td>29</td>\n",
       "      <td>Right foot</td>\n",
       "      <td>...</td>\n",
       "      <td>0</td>\n",
       "      <td>0</td>\n",
       "      <td>1</td>\n",
       "      <td>0</td>\n",
       "      <td>0</td>\n",
       "      <td>1</td>\n",
       "      <td>1</td>\n",
       "      <td>1</td>\n",
       "      <td>black</td>\n",
       "      <td>5</td>\n",
       "    </tr>\n",
       "  </tbody>\n",
       "</table>\n",
       "<p>5 rows × 120 columns</p>\n",
       "</div>"
      ],
      "text/plain": [
       "             name shirt_number          team_name                  league   \n",
       "0        L. MESSI           10       FC BARCELONA          Spanish League  \\\n",
       "1      C. RONALDO            7           JUVENTUS             Serie A TIM   \n",
       "2  R. LEWANDOWSKI            9  FC BAYERN MÜNCHEN  Other European Leagues   \n",
       "3          NEYMAR           10                PSG       Ligue 1 Uber Eats   \n",
       "4    K. DE BRUYNE           17       MANCHESTER B          English League   \n",
       "\n",
       "  nationality         region  height  weight  age        foot  ...   \n",
       "0   ARGENTINA  South America     170      72   33   Left foot  ...  \\\n",
       "1    PORTUGAL         Europe     187      83   35  Right foot  ...   \n",
       "2      POLAND         Europe     185      79   32  Right foot  ...   \n",
       "3      BRAZIL  South America     175      68   28  Right foot  ...   \n",
       "4     BELGIUM         Europe     181      68   29  Right foot  ...   \n",
       "\n",
       "  skill_super_sub com_playing_style_trickster  com_playing_style_mazing_run   \n",
       "0               0                           1                             1  \\\n",
       "1               0                           1                             1   \n",
       "2               0                           0                             0   \n",
       "3               0                           1                             1   \n",
       "4               0                           0                             1   \n",
       "\n",
       "   com_playing_style_speeding_bullet  com_playing_style_incisive_run   \n",
       "0                                  1                               1  \\\n",
       "1                                  1                               1   \n",
       "2                                  0                               1   \n",
       "3                                  1                               1   \n",
       "4                                  0                               0   \n",
       "\n",
       "   com_playing_style_early_cross  com_playing_style_long_ball_expert   \n",
       "0                              1                                   0  \\\n",
       "1                              0                                   0   \n",
       "2                              0                                   0   \n",
       "3                              0                                   0   \n",
       "4                              1                                   1   \n",
       "\n",
       "   com_playing_style_long_ranger  ball_color  rating_stars  \n",
       "0                              0       black             5  \n",
       "1                              1       black             5  \n",
       "2                              0       black             5  \n",
       "3                              0       black             5  \n",
       "4                              1       black             5  \n",
       "\n",
       "[5 rows x 120 columns]"
      ]
     },
     "execution_count": 5,
     "metadata": {},
     "output_type": "execute_result"
    }
   ],
   "source": [
    "df.head()"
   ]
  },
  {
   "cell_type": "code",
   "execution_count": 6,
   "id": "ec996e1e",
   "metadata": {},
   "outputs": [
    {
     "data": {
      "text/plain": [
       "(14693, 120)"
      ]
     },
     "execution_count": 6,
     "metadata": {},
     "output_type": "execute_result"
    }
   ],
   "source": [
    "df.shape"
   ]
  },
  {
   "cell_type": "markdown",
   "id": "67dc0786",
   "metadata": {},
   "source": [
    "# Preparing the dataset"
   ]
  },
  {
   "cell_type": "markdown",
   "id": "690bb8b5",
   "metadata": {},
   "source": [
    "##### We dont need any skill columns, ball_color column, rating_star column, so lets drop those columns"
   ]
  },
  {
   "cell_type": "code",
   "execution_count": 7,
   "id": "5f41a189",
   "metadata": {},
   "outputs": [],
   "source": [
    "#Getting the index of playing style column\n",
    "playingStyle_column_index = df.columns.get_loc('playing_style')\n",
    "\n",
    "# Drop all columns after the 'playing_style' column\n",
    "df = df.iloc[:, :playingStyle_column_index + 1]"
   ]
  },
  {
   "cell_type": "markdown",
   "id": "e1c2433e",
   "metadata": {},
   "source": [
    "In above code we dropped all columns after the playing_style column because we dont need them  "
   ]
  },
  {
   "cell_type": "code",
   "execution_count": 8,
   "id": "e219b7b2",
   "metadata": {},
   "outputs": [],
   "source": [
    "#Some more colums to drop\n",
    "columns_to_drop = ['shirt_number', 'height', 'condition']\n",
    "df = df.drop(columns=columns_to_drop)"
   ]
  },
  {
   "cell_type": "code",
   "execution_count": 9,
   "id": "597bc3e2",
   "metadata": {},
   "outputs": [
    {
     "data": {
      "text/plain": [
       "(14693, 65)"
      ]
     },
     "execution_count": 9,
     "metadata": {},
     "output_type": "execute_result"
    }
   ],
   "source": [
    "df.shape #total 52 columns dropped"
   ]
  },
  {
   "cell_type": "markdown",
   "id": "5d67eb2b",
   "metadata": {},
   "source": [
    "### Dividing the dataset into four categories : Forwards , midfielders, defenders and goalkeepers, so that we can make our analysis according to the categories."
   ]
  },
  {
   "cell_type": "markdown",
   "id": "6a51274d",
   "metadata": {},
   "source": [
    "#### Forwards : all players with registerd position as CF, LWF, RWF, SS\n",
    "#### Midfielders : all players with registered position as AMF, RMF, LMF, CMF, DMF\n",
    "#### Defenders : all players with registered position as CB, LB, RB\n",
    "#### Goalkeepers : all players with registered position as GK"
   ]
  },
  {
   "cell_type": "code",
   "execution_count": 11,
   "id": "fe56bef8",
   "metadata": {},
   "outputs": [],
   "source": [
    "#FORWARDS\n",
    "forwards_df = df[\n",
    "    (df.registered_position=='CF') |\n",
    "    (df.registered_position=='LWF') |\n",
    "    (df.registered_position=='RWF') |\n",
    "    (df.registered_position=='SS') \n",
    "]"
   ]
  },
  {
   "cell_type": "code",
   "execution_count": 15,
   "id": "ba4a0d2c",
   "metadata": {},
   "outputs": [],
   "source": [
    "#MIDFIELDERS\n",
    "midfielders_df = df[\n",
    "    (df.registered_position=='AMF') |\n",
    "    (df.registered_position=='RMF') |\n",
    "    (df.registered_position=='LMF') |\n",
    "    (df.registered_position=='CMF') |\n",
    "    (df.registered_position=='DMF') \n",
    "]"
   ]
  },
  {
   "cell_type": "code",
   "execution_count": 17,
   "id": "17fb107c",
   "metadata": {},
   "outputs": [],
   "source": [
    "defenders_df = df[\n",
    "    (df.registered_position=='CB') |\n",
    "    (df.registered_position=='LB') |\n",
    "    (df.registered_position=='RB') \n",
    "]"
   ]
  },
  {
   "cell_type": "code",
   "execution_count": 18,
   "id": "e43bf02e",
   "metadata": {},
   "outputs": [],
   "source": [
    "goalkeepers_df=df[\n",
    "    (df.registered_position=='GK')\n",
    "]"
   ]
  },
  {
   "cell_type": "code",
   "execution_count": 19,
   "id": "01b657cc",
   "metadata": {},
   "outputs": [
    {
     "data": {
      "text/plain": [
       "(4614, 65)"
      ]
     },
     "execution_count": 19,
     "metadata": {},
     "output_type": "execute_result"
    }
   ],
   "source": [
    "midfielders_df.shape"
   ]
  },
  {
   "cell_type": "code",
   "execution_count": 20,
   "id": "975ab978",
   "metadata": {},
   "outputs": [
    {
     "data": {
      "text/plain": [
       "(4748, 65)"
      ]
     },
     "execution_count": 20,
     "metadata": {},
     "output_type": "execute_result"
    }
   ],
   "source": [
    "defenders_df.shape"
   ]
  },
  {
   "cell_type": "code",
   "execution_count": 21,
   "id": "2e1dafa6",
   "metadata": {},
   "outputs": [
    {
     "data": {
      "text/plain": [
       "(1711, 65)"
      ]
     },
     "execution_count": 21,
     "metadata": {},
     "output_type": "execute_result"
    }
   ],
   "source": [
    "goalkeepers_df.shape"
   ]
  },
  {
   "cell_type": "code",
   "execution_count": 23,
   "id": "1c25c452",
   "metadata": {},
   "outputs": [
    {
     "data": {
      "text/plain": [
       "(3620, 65)"
      ]
     },
     "execution_count": 23,
     "metadata": {},
     "output_type": "execute_result"
    }
   ],
   "source": [
    "forwards_df.shape"
   ]
  },
  {
   "cell_type": "code",
   "execution_count": 24,
   "id": "96cb1eef",
   "metadata": {},
   "outputs": [
    {
     "data": {
      "text/plain": [
       "14693"
      ]
     },
     "execution_count": 24,
     "metadata": {},
     "output_type": "execute_result"
    }
   ],
   "source": [
    "4614+4748+1711+3620"
   ]
  },
  {
   "cell_type": "code",
   "execution_count": null,
   "id": "f5ea4c0f",
   "metadata": {},
   "outputs": [],
   "source": []
  },
  {
   "cell_type": "code",
   "execution_count": null,
   "id": "b6cd6518",
   "metadata": {},
   "outputs": [],
   "source": []
  }
 ],
 "metadata": {
  "kernelspec": {
   "display_name": "Python 3 (ipykernel)",
   "language": "python",
   "name": "python3"
  },
  "language_info": {
   "codemirror_mode": {
    "name": "ipython",
    "version": 3
   },
   "file_extension": ".py",
   "mimetype": "text/x-python",
   "name": "python",
   "nbconvert_exporter": "python",
   "pygments_lexer": "ipython3",
   "version": "3.10.6"
  }
 },
 "nbformat": 4,
 "nbformat_minor": 5
}
